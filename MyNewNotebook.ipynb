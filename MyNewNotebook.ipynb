{
  "nbformat": 4,
  "nbformat_minor": 0,
  "metadata": {
    "colab": {
      "provenance": [],
      "authorship_tag": "ABX9TyOsSes3JaiyynkbmBAVVPBY",
      "include_colab_link": true
    },
    "kernelspec": {
      "name": "python3",
      "display_name": "Python 3"
    },
    "language_info": {
      "name": "python"
    }
  },
  "cells": [
    {
      "cell_type": "markdown",
      "metadata": {
        "id": "view-in-github",
        "colab_type": "text"
      },
      "source": [
        "<a href=\"https://colab.research.google.com/github/titoA2021/Google_Colab/blob/main/MyNewNotebook.ipynb\" target=\"_parent\"><img src=\"https://colab.research.google.com/assets/colab-badge.svg\" alt=\"Open In Colab\"/></a>"
      ]
    },
    {
      "cell_type": "code",
      "source": [
        "#programa para determinar que un es primo\n",
        "#lo que chequeo es que no sea divisible por ningun otro \n",
        "#numero que no sea el 1 y si mismo\n",
        "a = int(input(\"Ingrese un numero para saber si es primo: \"))\n",
        "def primos(numero):\n",
        "  for i in range (2, a):\n",
        "    if a % i == 0:\n",
        "      print(\"No es primo, es divisible por \", i)\n",
        "      return False\n",
        "  return True\n",
        "\n",
        "if primos(a):\n",
        "  print('El número', a , 'es primo')\n",
        "\n",
        "###########################################################################################\n",
        "\n",
        "b = int(input(\"Ingrese un numero para saber si es primo: \"))\n",
        "aux = 0\n",
        "for i in range (2, b):\n",
        "  if b % i == 0:\n",
        "    print(\"No es primo, es divisible por \", i)\n",
        "    aux = 1\n",
        "\n",
        "if aux == 0:\n",
        "  print('El número', b , 'es primo')\n",
        "\n",
        "#Del 1 al 10 que son pares\n",
        "for i in range(1,11):\n",
        "  if i % 2 == 0:\n",
        "    print(i, \"es par\")\n",
        "  else:\n",
        "    print(i, \"es impar\")\n",
        "\n",
        "################################################################################\n",
        "\n",
        "test = int(input(\"Numero: \"))\n",
        "mod = 2\n",
        "flag = True\n",
        "acum = 0\n",
        "while mod < test and flag == True:\n",
        "  print(mod)\n",
        "  acum = acum + 1\n",
        "  if test % mod == 0:\n",
        "    flag = False\n",
        "  mod = mod + 1\n",
        "print(\"numero de iteraciones: \", acum)\n",
        "if flag == False:\n",
        "  print(\"El numero\", test, \"NO es primo\")\n",
        "else:\n",
        "  print(\"El numero\", test, \"es primo\")\n",
        "\n",
        "##################################################################################\n",
        "\n",
        "def primo(n):\n",
        "  mod = 2\n",
        "  flag = True\n",
        "  acum = 0\n",
        "  while mod < n and flag == True:\n",
        "    print(mod)\n",
        "    acum = acum + 1\n",
        "    if n % mod == 0:\n",
        "      flag = False\n",
        "    mod = mod + 1\n",
        "  print(\"numero de iteraciones: \", acum)\n",
        "  if flag == False:\n",
        "    print(\"El numero\", n, \"NO es primo\")\n",
        "    return 0\n",
        "  else:\n",
        "    print(\"El numero\", n, \"es primo\")\n",
        "    return 1\n",
        "\n",
        "################################################################################\n",
        "\n",
        "#imprimir en pantalla los numeros primos del 1 al 100\n",
        "def primo(n): \n",
        "  mod = 2\n",
        "  flag = True\n",
        "  acum = 0\n",
        "  while mod < n and flag == True:\n",
        "    acum = acum + 1\n",
        "    if n % mod == 0:\n",
        "      flag = False\n",
        "    mod = mod + 1\n",
        "  if flag == False:\n",
        "   return 0\n",
        "  else:\n",
        "    return 1\n",
        "\n",
        "for x in range(1, 101):\n",
        "  if primo(x) == 1:\n",
        "    print(x)\n",
        "    "
      ],
      "metadata": {
        "colab": {
          "base_uri": "https://localhost:8080/"
        },
        "id": "yMGHWt19faNO",
        "outputId": "4ecc2a45-5957-4620-a4d7-e5a706eafd16"
      },
      "execution_count": null,
      "outputs": [
        {
          "output_type": "stream",
          "name": "stdout",
          "text": [
            "Ingrese un numero para saber si es primo: 13\n",
            "El número 13 es primo\n"
          ]
        }
      ]
    },
    {
      "cell_type": "code",
      "source": [
        "for x in range(1,10):\n",
        "  print(\"f(x) =\", quadratica(1,3,10,x), \"donde, x =\", x)\n",
        "\n",
        "###############################################################################\n",
        "\n",
        "#suma del 1 al 5\n",
        "def sumatoria(limSup):\n",
        "  aux = 0\n",
        "  suma = 0\n",
        "  while aux < limSup:\n",
        "    aux = aux + 1\n",
        "    suma = suma + aux\n",
        "    print(\"Indice:\", aux)\n",
        "    print(\"El valor de la suma\", aux, \"es:\", suma)\n"
      ],
      "metadata": {
        "colab": {
          "base_uri": "https://localhost:8080/"
        },
        "id": "O9GNA_B9Z5PJ",
        "outputId": "39239e65-e642-45b2-daba-1b2c6ae5319e"
      },
      "execution_count": null,
      "outputs": [
        {
          "output_type": "stream",
          "name": "stdout",
          "text": [
            "f(x) = 14 donde, x = 1\n",
            "f(x) = 20 donde, x = 2\n",
            "f(x) = 28 donde, x = 3\n",
            "f(x) = 38 donde, x = 4\n",
            "f(x) = 50 donde, x = 5\n",
            "f(x) = 64 donde, x = 6\n",
            "f(x) = 80 donde, x = 7\n",
            "f(x) = 98 donde, x = 8\n",
            "f(x) = 118 donde, x = 9\n"
          ]
        }
      ]
    },
    {
      "cell_type": "code",
      "source": [
        "#Data, listas\n",
        "data=[1, True, 12.3, \"Que chimba SOG\"]\n",
        "data.append('sacasao')\n",
        "\n",
        "################################################################################\n",
        "\n",
        "primos = []\n",
        "for elemento in range(1,101):\n",
        "  if primo(elemento)==1:\n",
        "    primos.append(elemento)"
      ],
      "metadata": {
        "id": "YhWl5l_ajOtV"
      },
      "execution_count": null,
      "outputs": []
    },
    {
      "cell_type": "code",
      "source": [
        "#Realizar una función que busque dentro de una lista un número y \n",
        "#retorne si es cierto\n",
        "def buscar(data,busq):\n",
        "  elemento = 0\n",
        "  aux = False\n",
        "  while data[elemento] != busq and aux == False:\n",
        "    if data[elemento] == data[-1]:\n",
        "      break\n",
        "    elemento += 1\n",
        "  if data[elemento] == busq:\n",
        "    aux = True\n",
        "  print(aux)\n",
        "\n",
        "list2 = [1, 4, 33, \"hola\", 34.5]\n",
        "buscar(list2, \"e\")\n",
        "\n",
        "#Realizar una función que busque dentro de una lista un número y \n",
        "#retorne si es cierto\n",
        "def buscar2(data,busq):\n",
        "  aux = False\n",
        "  for x in range(len(data)):\n",
        "    if data[x] != busq:\n",
        "      continue\n",
        "    else:\n",
        "      aux = True\n",
        "  print(aux)\n",
        "\n",
        "list3 = [22, 7, 8, \"hielo\", 38.4]\n",
        "buscar2(list3,222)\n",
        "\n",
        "#Realizar una función que busque dentro de una lista un número y \n",
        "#retorne si es cierto\n",
        "def buscar3(data,busq):\n",
        "  elemento = 0\n",
        "  aux = False\n",
        "  while elemento < len(data) and aux == False:\n",
        "    if data[elemento] == busq:\n",
        "      aux = True\n",
        "    elemento += 1\n",
        "  print(aux)\n",
        "\n",
        "list4 = [29, 95, 8, \"perro\", 3.84]\n",
        "buscar3(list4, 3.84)"
      ],
      "metadata": {
        "id": "HuKAsNvtpwlp"
      },
      "execution_count": null,
      "outputs": []
    },
    {
      "cell_type": "code",
      "source": [
        "def funWhile(data,k):\n",
        "  acum = 0\n",
        "  index = 0\n",
        "  flag = False\n",
        "  while index < len(data) and flag==False:\n",
        "    acum = acum + 1\n",
        "    if data[index] == k:\n",
        "      flag = True\n",
        "    index = index + 1\n",
        "  return(flag, acum)\n",
        "\n",
        "def funFor(data,k):\n",
        "  acum = 0\n",
        "  aux = False\n",
        "  for elemento in data:\n",
        "    acum = acum + 1\n",
        "    if elemento == k:\n",
        "      aux = True\n",
        "  return(aux, acum)\n",
        "\n",
        "#una función con while y otra con for\n",
        "#que retorne si el elemento está y cuantas iteraciones le tardó\n",
        "\n",
        "data1 = [1,4,5,10,33,11,20,20.100, 108]\n",
        "print(funWhile(data1,4))\n",
        "print(funFor(data1,20))"
      ],
      "metadata": {
        "id": "pTsmbOTpInPD"
      },
      "execution_count": null,
      "outputs": []
    },
    {
      "cell_type": "code",
      "source": [
        "matriz = [['a','b'],['c','d']]\n",
        "for fila in matriz:\n",
        "  print(fila)"
      ],
      "metadata": {
        "colab": {
          "base_uri": "https://localhost:8080/"
        },
        "id": "IZYCpDnjN238",
        "outputId": "b61ad08f-396d-453c-a87f-5e6a89a3ad4b"
      },
      "execution_count": null,
      "outputs": [
        {
          "output_type": "stream",
          "name": "stdout",
          "text": [
            "['a', 'b']\n",
            "['c', 'd']\n"
          ]
        }
      ]
    },
    {
      "cell_type": "code",
      "source": [
        "matriz[1][1]\n",
        "matriz.append(['e','f'])\n",
        "matriz"
      ],
      "metadata": {
        "colab": {
          "base_uri": "https://localhost:8080/",
          "height": 36
        },
        "id": "WPbmfoYQOFzH",
        "outputId": "fc8daba9-c40e-484a-a738-5c07bfd5cc8c"
      },
      "execution_count": null,
      "outputs": [
        {
          "output_type": "execute_result",
          "data": {
            "text/plain": [
              "'d'"
            ],
            "application/vnd.google.colaboratory.intrinsic+json": {
              "type": "string"
            }
          },
          "metadata": {},
          "execution_count": 60
        }
      ]
    },
    {
      "cell_type": "code",
      "source": [
        "for row in matriz:\n",
        "  print(row[0], \"primer elemento\")\n",
        "  print(row[1], \"segundo elemento\")"
      ],
      "metadata": {
        "colab": {
          "base_uri": "https://localhost:8080/"
        },
        "id": "kMasI2QYPx8Q",
        "outputId": "d82fb7a8-0fa6-44a9-98d5-878a5aba4be6"
      },
      "execution_count": null,
      "outputs": [
        {
          "output_type": "stream",
          "name": "stdout",
          "text": [
            "a primer elemento\n",
            "b segundo elemento\n",
            "c primer elemento\n",
            "d segundo elemento\n",
            "e primer elemento\n",
            "f segundo elemento\n"
          ]
        }
      ]
    },
    {
      "cell_type": "code",
      "source": [
        "# MATRICES\n",
        "\n",
        "#matriz de n*n con puros 0s\n",
        "def matriz(num):\n",
        "  matriz= []\n",
        "  for i in range(num):\n",
        "    fila = []\n",
        "    for j in range(num):\n",
        "        fila.append(0)\n",
        "    matriz.append(fila)\n",
        "  return matriz\n",
        "\n",
        "matriz(5)\n",
        "\n",
        "#matriz de n*n con puros 0s\n",
        "def vector(col):\n",
        "  vector= []\n",
        "  aux = 0\n",
        "  for j in range(col):\n",
        "    vector.append(0)\n",
        "  return vector\n",
        "\n",
        "def matriz(fila,col):\n",
        "  matriz = []\n",
        "  for i in range(fila):\n",
        "    matriz.append(vector(fila))\n",
        "  return matriz\n",
        "\n",
        "matriz(8,8)\n",
        "\n",
        "#matriz de n*n con puros 0s\n",
        "def matriz(num):\n",
        "  matriz= []\n",
        "  for i in range(num):\n",
        "    fila = []\n",
        "    for j in range(num):\n",
        "        fila.append(\"X\")\n",
        "    matriz.append(fila)\n",
        "  return matriz\n",
        "matriz(7)\n",
        "\n",
        "#Ejercicio 1\n",
        "#Matriz diagonal inferior\n",
        "def vector(col):\n",
        "  vector = []\n",
        "  for i in range(col):\n",
        "    vector.append(\" \")\n",
        "  return vector\n",
        "\n",
        "def matriz(col):\n",
        "  matriz = []\n",
        "  for i in range(col):\n",
        "    matriz.append(vector(col))\n",
        "  for x in range(col):\n",
        "    for y in range(x+1):\n",
        "      matriz[x][y] = \"X\"\n",
        "  return matriz\n",
        "  \n",
        "matriz(6)\n",
        "\n",
        "\n",
        "def vector(a,b):\n",
        "  vacio = []\n",
        "  for aux in range(a):\n",
        "    if aux < b:\n",
        "      vacio.append('x')\n",
        "    else:\n",
        "      vacio.append(' ')\n",
        "  return vacio\n",
        "\n",
        "def DiaDere(filas):\n",
        "  mat = []\n",
        "  for x in range(1, filas + 1):\n",
        "    mat.append(vector(filas,x))\n",
        "  return mat\n",
        "\n",
        "DiaDere(5)\n",
        "\n",
        "###############################################################################\n",
        "\n",
        "#Ejercicio 2\n",
        "#Matriz diagonal superior invertida\n",
        "def vector(col):\n",
        "  vector = []\n",
        "  for i in range(col):\n",
        "    vector.append(\" \")\n",
        "  return vector\n",
        "\n",
        "def matriz(col):\n",
        "  matriz = []\n",
        "  for i in range(col):\n",
        "    matriz.append(vector(col))\n",
        "  for x in range(col):\n",
        "    for y in range(col-x):\n",
        "      matriz[x][y] = \"X\"\n",
        "  return matriz\n",
        "  \n",
        "matriz(6)\n",
        "\n",
        "def vector(a,b):\n",
        "  vacio = []\n",
        "  for aux in range(a):\n",
        "    if aux >= b:\n",
        "      vacio.append('x')\n",
        "    else:\n",
        "      vacio.append(' ')\n",
        "  return vacio\n",
        "\n",
        "def DiaDere(filas):\n",
        "  mat = []\n",
        "  for x in range(filas):\n",
        "    mat.append(vector(filas,x))\n",
        "  return mat\n",
        "\n",
        "DiaDere(5)\n",
        "\n",
        "############################################################################\n",
        "\n",
        "#Ejercicio 3\n",
        "#Matriz diagonal superior\n",
        "def vector(col):\n",
        "  vector = []\n",
        "  for i in range(col):\n",
        "    vector.append(\" \")\n",
        "  return vector\n",
        "\n",
        "def matriz(col):\n",
        "  matriz = []\n",
        "  for i in range(col):\n",
        "    matriz.append(vector(col))\n",
        "  for x in range(col):\n",
        "    for y in range(x+1):\n",
        "      matriz[y][x] = \"X\"\n",
        "  return matriz\n",
        "  \n",
        "matriz(6)\n",
        "\n",
        "#Ejercicio 4\n",
        "#Matriz diagonal inferior invertida\n",
        "def vector(col):\n",
        "  vector = []\n",
        "  for i in range(col):\n",
        "    vector.append(\" \")\n",
        "  return vector\n",
        "\n",
        "def matriz(col):\n",
        "  matriz = []\n",
        "  for i in range(col):\n",
        "    matriz.append(vector(col))\n",
        "  for x in range(col):\n",
        "    for y in range(1,x+2):\n",
        "      matriz[x][-y] = \"X\"\n",
        "  return matriz\n",
        "matriz(6)"
      ],
      "metadata": {
        "id": "c-kkgU26RkV6",
        "colab": {
          "base_uri": "https://localhost:8080/"
        },
        "outputId": "4a923bf7-5a6f-4fe9-8081-5e1666988ac9"
      },
      "execution_count": null,
      "outputs": [
        {
          "output_type": "execute_result",
          "data": {
            "text/plain": [
              "[[0, 0, 0, 0, 0],\n",
              " [0, 0, 0, 0, 0],\n",
              " [0, 0, 0, 0, 0],\n",
              " [0, 0, 0, 0, 0],\n",
              " [0, 0, 0, 0, 0]]"
            ]
          },
          "metadata": {},
          "execution_count": 1
        }
      ]
    },
    {
      "cell_type": "code",
      "source": [
        "TO_APPEND = [[x for x in range(1,j)] for j in range(1,10)]  # Nested loop\n",
        "mat = []\n",
        "for i in range(1,10):\n",
        "  mataux = []\n",
        "  for j in range(1,i):\n",
        "    mataux.append(j)\n",
        "  mat.append(mataux)\n",
        "\n",
        "print(mat)\n",
        "print(TO_APPEND)"
      ],
      "metadata": {
        "colab": {
          "base_uri": "https://localhost:8080/"
        },
        "id": "IV_0M8Por4So",
        "outputId": "390743f4-22bb-4573-f9c8-d702c8680f5b"
      },
      "execution_count": null,
      "outputs": [
        {
          "output_type": "stream",
          "name": "stdout",
          "text": [
            "[[], [1], [1, 2], [1, 2, 3], [1, 2, 3, 4], [1, 2, 3, 4, 5], [1, 2, 3, 4, 5, 6], [1, 2, 3, 4, 5, 6, 7], [1, 2, 3, 4, 5, 6, 7, 8]]\n",
            "[[], [1], [1, 2], [1, 2, 3], [1, 2, 3, 4], [1, 2, 3, 4, 5], [1, 2, 3, 4, 5, 6], [1, 2, 3, 4, 5, 6, 7], [1, 2, 3, 4, 5, 6, 7, 8]]\n"
          ]
        }
      ]
    }
  ]
}