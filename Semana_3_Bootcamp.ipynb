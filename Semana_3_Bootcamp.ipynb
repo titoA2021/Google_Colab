{
  "cells": [
    {
      "cell_type": "markdown",
      "metadata": {
        "id": "view-in-github",
        "colab_type": "text"
      },
      "source": [
        "<a href=\"https://colab.research.google.com/github/titoA2021/Google_Colab/blob/main/Semana_3_Bootcamp.ipynb\" target=\"_parent\"><img src=\"https://colab.research.google.com/assets/colab-badge.svg\" alt=\"Open In Colab\"/></a>"
      ]
    },
    {
      "cell_type": "code",
      "execution_count": null,
      "metadata": {
        "colab": {
          "base_uri": "https://localhost:8080/"
        },
        "id": "gVX_CMFB4kib",
        "outputId": "4e7ba320-3031-4a9f-e2e0-a3328d7d3dd4"
      },
      "outputs": [
        {
          "name": "stdout",
          "output_type": "stream",
          "text": [
            "0 EL\n",
            "1  MENSAJE\n",
            "2  TIENE\n",
            "3  LA\n",
            "4  PALABRA\n",
            "5  X,\n",
            "6  EN\n",
            "7  LA\n",
            "8  POSICIÓN\n"
          ]
        }
      ],
      "source": [
        "# Contar cuantos elementos separados por un ' ' tiene una cadena de string\n",
        "# Almacenar cada elemento en un vector\n",
        "palabras = []\n",
        "mensaje = \"EL MENSAJE TIENE LA PALABRA X, EN LA POSICIÓN\"\n",
        "word = ''\n",
        "i = 0\n",
        "for caracter in mensaje: \n",
        "  if caracter == \" \":\n",
        "    #print(\"Found it\")\n",
        "    palabras.append(word)\n",
        "    word = \" \"\n",
        "  else:\n",
        "    #print(word)\n",
        "    word = word + caracter \n",
        "palabras.append(word)\n",
        "\n",
        "for x in range(len(palabras)):\n",
        "  print(x, palabras[x])\n",
        "\n",
        "palabras\n",
        "\n",
        "################################################################################\n",
        "\n",
        "#Contar cuantas letras tiene por palabra cada elemento de una lista de str\n",
        "mensaje = [\"Palabra\", \"esta si es\", \"otra distinta\"]\n",
        "for c in mensaje:\n",
        "  aux = 0\n",
        "  for d in c:\n",
        "    aux += 1\n",
        "  print(aux, c)\n",
        "\n",
        "################################################################################\n",
        "\n",
        "e = [[\"345\",\"3\",\"edf\"],[\"edfgte\",\"rfs\",\"tttfdasqwsd\"]]\n",
        "for i in e:\n",
        "  aux1 = 0\n",
        "  for j in i:\n",
        "    aux2 = 0\n",
        "    aux1 += 1\n",
        "    for k in j:\n",
        "      aux2 += 1\n",
        "    print(j, aux2)\n",
        "\n"
      ]
    },
    {
      "cell_type": "code",
      "execution_count": null,
      "metadata": {
        "colab": {
          "base_uri": "https://localhost:8080/"
        },
        "id": "BIrx80pdI1fy",
        "outputId": "b013747f-ef75-4e78-c4bf-7c5d0eecde23"
      },
      "outputs": [
        {
          "name": "stdout",
          "output_type": "stream",
          "text": [
            "5\n"
          ]
        },
        {
          "data": {
            "text/plain": [
              "[9, 4, 6, 5, 2]"
            ]
          },
          "execution_count": 47,
          "metadata": {},
          "output_type": "execute_result"
        }
      ],
      "source": [
        "# Ordenar de mayor a menor\n",
        "m = [2,5,6,4,9]\n",
        "m_i = []\n",
        "i = len(m) - 1\n",
        "print(len(m))\n",
        "while i >= 0:\n",
        "  m_i.append(m[i])\n",
        "  i -= 1\n",
        "m_i"
      ]
    },
    {
      "cell_type": "code",
      "execution_count": null,
      "metadata": {
        "id": "1dj6ZGSAKRJH"
      },
      "outputs": [],
      "source": [
        "# Numero en binario\n",
        "bin(10)\n",
        "\n",
        "# pasar un numero decimal a un binario pero almacenado en un vector\n",
        "def binario(num):\n",
        "  lista = []\n",
        "  while num >= 1:\n",
        "    lista.append(num % 2)\n",
        "    num = num // 2\n",
        "  i = -1\n",
        "  lista_invertida = []\n",
        "  for _ in range(len(lista)):\n",
        "    lista_invertida.append(lista[i])\n",
        "    i -= 1\n",
        "  return lista_invertida\n",
        "\n",
        "binario(10)\n"
      ]
    },
    {
      "cell_type": "markdown",
      "source": [
        "$$p(k,\\lambda) = \\frac{e^{-\\lambda} \\lambda^k}{k!}$$"
      ],
      "metadata": {
        "id": "4xSDRWfOlqtT"
      }
    },
    {
      "cell_type": "code",
      "source": [
        "#Poisson para futbol\n",
        "from math import e\n",
        "\n",
        "def factorial(num):\n",
        "  aux = 1\n",
        "  for i in range(num):\n",
        "    aux = aux*(num-i)\n",
        "  return aux\n",
        "\n",
        "#Probabilidad de que anoten (k) goles si anotan (landa) goles por partido\n",
        "def poisson(k, l):\n",
        "  return (e**(-l)*l**k)/factorial(k)\n",
        "\n",
        "poisson(20,21)"
      ],
      "metadata": {
        "id": "E-t3dZOdKeyt"
      },
      "execution_count": null,
      "outputs": []
    },
    {
      "cell_type": "markdown",
      "source": [
        "Valor futuro y valor actual con % interes\n",
        "\n",
        "$$ V_f = k V_a $$\n",
        "$$ k = \\frac{V_f}{V_a} $$\n",
        "$$V_f = V_a (1+r)^n$$\n",
        "$$\\frac{V_f}{V_a} = (1+r)^n $$\n",
        "$$ \\ln{(k)} = n \\ln{(1+r)} $$\n",
        "$$ n = \\frac{\\ln{(k)}}{\\ln{(1+r)}} $$\n",
        "\n"
      ],
      "metadata": {
        "id": "0F_65vddv1JT"
      }
    },
    {
      "cell_type": "code",
      "source": [
        "import numpy as np\n",
        "import matplotlib.pyplot as plt\n",
        "import math\n",
        "\n",
        "def tiempo(k,r):\n",
        "  return math.log(k)/math.log(1+r)\n",
        "\n",
        "data = []\n",
        "for i in np.linspace(0.1,0.5,20):\n",
        "  data.append(tiempo(2,i))\n",
        "plt.plot(np.linspace(0.1,0.5,20), data)\n",
        "\n",
        "tiempo(2,0.018)"
      ],
      "metadata": {
        "colab": {
          "base_uri": "https://localhost:8080/",
          "height": 282
        },
        "id": "cYzYLiXou1Tw",
        "outputId": "a56c25d7-fcd0-4627-8744-32429bd8c624"
      },
      "execution_count": null,
      "outputs": [
        {
          "output_type": "execute_result",
          "data": {
            "text/plain": [
              "[<matplotlib.lines.Line2D at 0x7f3f555ddf90>]"
            ]
          },
          "metadata": {},
          "execution_count": 4
        },
        {
          "output_type": "display_data",
          "data": {
            "text/plain": [
              "<Figure size 432x288 with 1 Axes>"
            ],
            "image/png": "[encoded data removed]"
          },
          "metadata": {
            "needs_background": "light"
          }
        }
      ]
    },
    {
      "cell_type": "code",
      "source": [
        "np.linspace(0.1,0.5,20)"
      ],
      "metadata": {
        "colab": {
          "base_uri": "https://localhost:8080/"
        },
        "id": "fCAtreKJVL_y",
        "outputId": "d9dc6371-393d-4cc3-8d2d-1d98a6136fba"
      },
      "execution_count": null,
      "outputs": [
        {
          "output_type": "execute_result",
          "data": {
            "text/plain": [
              "array([0.1       , 0.12105263, 0.14210526, 0.16315789, 0.18421053,\n",
              "       0.20526316, 0.22631579, 0.24736842, 0.26842105, 0.28947368,\n",
              "       0.31052632, 0.33157895, 0.35263158, 0.37368421, 0.39473684,\n",
              "       0.41578947, 0.43684211, 0.45789474, 0.47894737, 0.5       ])"
            ]
          },
          "metadata": {},
          "execution_count": 5
        }
      ]
    },
    {
      "cell_type": "code",
      "source": [
        "#tiempo en años \n",
        "data"
      ],
      "metadata": {
        "colab": {
          "base_uri": "https://localhost:8080/"
        },
        "id": "dozVTtwMz9ck",
        "outputId": "cb745c47-1b7f-4a12-b2d2-4e6b25fbf4d1"
      },
      "execution_count": null,
      "outputs": [
        {
          "output_type": "execute_result",
          "data": {
            "text/plain": [
              "[7.272540897341713,\n",
              " 6.065973090406756,\n",
              " 5.216603167778892,\n",
              " 4.586168231825499,\n",
              " 4.099610988598069,\n",
              " 3.71266663420105,\n",
              " 3.3975407801433994,\n",
              " 3.1359007775308188,\n",
              " 2.915165240819677,\n",
              " 2.726412687789183,\n",
              " 2.563140901652492,\n",
              " 2.4204989166269995,\n",
              " 2.294794112723483,\n",
              " 2.1831659260124052,\n",
              " 2.0833639712855714,\n",
              " 1.9935935702135565,\n",
              " 1.9124059458173002,\n",
              " 1.8386187079071892,\n",
              " 1.7712573092081987,\n",
              " 1.7095112913514547]"
            ]
          },
          "metadata": {},
          "execution_count": 76
        }
      ]
    },
    {
      "cell_type": "code",
      "source": [
        "np.linspace(0.1,0.5,20)"
      ],
      "metadata": {
        "colab": {
          "base_uri": "https://localhost:8080/"
        },
        "id": "x5RTL3yXxLd-",
        "outputId": "a03fd944-f628-4d25-db84-086bd832618b"
      },
      "execution_count": null,
      "outputs": [
        {
          "output_type": "execute_result",
          "data": {
            "text/plain": [
              "array([0.1       , 0.12105263, 0.14210526, 0.16315789, 0.18421053,\n",
              "       0.20526316, 0.22631579, 0.24736842, 0.26842105, 0.28947368,\n",
              "       0.31052632, 0.33157895, 0.35263158, 0.37368421, 0.39473684,\n",
              "       0.41578947, 0.43684211, 0.45789474, 0.47894737, 0.5       ])"
            ]
          },
          "metadata": {},
          "execution_count": 77
        }
      ]
    },
    {
      "cell_type": "code",
      "source": [
        "dicc = {\n",
        "    \"medias\" : [\"medias1\", \"medias2\"],\n",
        "    \"pantalones\" : [\"pantalon1\", \"pantalon2\"]\n",
        "}\n",
        "\n",
        "for i in dicc:\n",
        "  print(dicc[i])"
      ],
      "metadata": {
        "colab": {
          "base_uri": "https://localhost:8080/"
        },
        "id": "PvIC7ii9UW0g",
        "outputId": "181efcc3-b4ec-4bce-bceb-0ec5ddc63ef9"
      },
      "execution_count": null,
      "outputs": [
        {
          "output_type": "stream",
          "name": "stdout",
          "text": [
            "['medias1', 'medias2']\n",
            "['pantalon1', 'pantalon2']\n"
          ]
        }
      ]
    },
    {
      "cell_type": "code",
      "source": [
        "data = {\n",
        "    'Pesos' : [1,2,3,4,23],\n",
        "    'Edad' : [4,6,12,54],\n",
        "    'Estatura' : [5,4,64,65,2]\n",
        "}\n",
        "\n",
        "def promedio(lista):\n",
        "  n = len(lista)\n",
        "  sum = 0\n",
        "  for i in lista:\n",
        "    sum = sum + i\n",
        "  return sum/n\n",
        "\n",
        "def funTotal(data, all = True):\n",
        "  if all == True:\n",
        "    for i in data:\n",
        "      print(i, promedio(data[i]))\n",
        "  else:\n",
        "    palabra = str(input(\"Ingrese la lista que desea promediar:\"))\n",
        "    if palabra not in data:\n",
        "      print(\"Esa lista no existe\")\n",
        "    else:\n",
        "      print(promedio(data[palabra]))"
      ],
      "metadata": {
        "id": "b3PEHoiyWu2r"
      },
      "execution_count": null,
      "outputs": []
    },
    {
      "cell_type": "code",
      "source": [
        "funTotal(data,False)"
      ],
      "metadata": {
        "colab": {
          "base_uri": "https://localhost:8080/"
        },
        "id": "R9R2RdOIjyhL",
        "outputId": "9aa27400-a09a-4148-9b63-29028ec7a459"
      },
      "execution_count": null,
      "outputs": [
        {
          "output_type": "stream",
          "name": "stdout",
          "text": [
            "Ingrese la lista que desea promediar:focas\n",
            "Esa lista no existe\n"
          ]
        }
      ]
    }
  ],
  "metadata": {
    "colab": {
      "provenance": [],
      "authorship_tag": "ABX9TyPkxX1EcElVOZ3eg1Ns2//+",
      "include_colab_link": true
    },
    "kernelspec": {
      "display_name": "Python 3",
      "name": "python3"
    },
    "language_info": {
      "name": "python"
    }
  },
  "nbformat": 4,
  "nbformat_minor": 0
}