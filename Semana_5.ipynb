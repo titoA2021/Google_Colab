{
  "cells": [
    {
      "cell_type": "markdown",
      "metadata": {
        "id": "view-in-github",
        "colab_type": "text"
      },
      "source": [
        "<a href=\"https://colab.research.google.com/github/titoA2021/Google_Colab/blob/main/Semana_5.ipynb\" target=\"_parent\"><img src=\"https://colab.research.google.com/assets/colab-badge.svg\" alt=\"Open In Colab\"/></a>"
      ]
    },
    {
      "cell_type": "code",
      "execution_count": null,
      "metadata": {
        "colab": {
          "base_uri": "https://localhost:8080/"
        },
        "id": "De5O-wuFAhXc",
        "outputId": "99e29792-908a-4065-f99f-695d3a51b230"
      },
      "outputs": [
        {
          "name": "stdout",
          "output_type": "stream",
          "text": [
            "108-97-32-99-108-65-118-101-32-101-115-32-49-50-51-52-53\n",
            "116-105-40-107-116-73-126-109-40-109-123-40-57-58-59-60-61\n",
            "ti(ktI~m(m{(9:;<=\n",
            "la clAve es 12345\n"
          ]
        }
      ],
      "source": [
        "#Funcion ord(), indica el entero(integer) \n",
        "# que representa el codigo de caracter unico\n",
        "caracter = \"la clAve es 12345\"\n",
        "f_ord = \"\"\n",
        "f_cif = \"\"\n",
        "acum = \"\"\n",
        "f_final = \"\"\n",
        "f_final_cifrada = \"\"\n",
        "d = 8\n",
        "for i in caracter:\n",
        "  f_ord = f_ord + str(ord(i)) + \"-\"\n",
        "  f_cif = f_cif + str(ord(i) + d) + \"-\"\n",
        "\n",
        "for i in f_cif:\n",
        "  if i != \"-\":\n",
        "    acum = acum + i\n",
        "  else:\n",
        "    f_final_cifrada = f_final_cifrada + chr(int(acum))\n",
        "    f_final = f_final + chr(int(acum) - d)\n",
        "    acum = \"\"\n",
        "\n",
        "print(f_ord[0:-1])\n",
        "print(f_cif[0:-1])\n",
        "print(f_final_cifrada)\n",
        "print(f_final)\n",
        "\n",
        "\n"
      ]
    },
    {
      "cell_type": "code",
      "execution_count": null,
      "metadata": {
        "id": "9LyFPIJnY-QB"
      },
      "outputs": [],
      "source": [
        "def cifrar(n,palabra):\n",
        "  f_cif = \"\"\n",
        "  for i in palabra:\n",
        "    f_cif = f_cif + str(ord(i) + d) + \",\"\n",
        "  return f_cif\n",
        "\n",
        "def descifrar(n,palabra):\n",
        "  acum = \"\"\n",
        "  f_final = \"\"\n",
        "  for i in palabra:\n",
        "    if i != \",\":\n",
        "      acum = acum + i\n",
        "    else:\n",
        "      f_final = f_final + chr(int(acum) - d)\n",
        "      acum = \"\"\n",
        "  return f_final "
      ]
    },
    {
      "cell_type": "code",
      "execution_count": null,
      "metadata": {
        "colab": {
          "base_uri": "https://localhost:8080/"
        },
        "id": "MSbTV88GgrGM",
        "outputId": "afa6de17-7593-49c0-f2a1-aef0cd41ebb4"
      },
      "outputs": [
        {
          "name": "stdout",
          "output_type": "stream",
          "text": [
            "cifrada:  57,52,58,52,59,52,60,52,61,52,62,\n",
            "descifrada:  1,2,3,4,5,6\n"
          ]
        }
      ],
      "source": [
        "h = \"1,2,3,4,5,6\"\n",
        "j = cifrar(7,h)\n",
        "print(\"cifrada: \", j)\n",
        "e = descifrar(7,j)\n",
        "print(\"descifrada: \", e)"
      ]
    },
    {
      "cell_type": "code",
      "execution_count": null,
      "metadata": {
        "colab": {
          "base_uri": "https://localhost:8080/",
          "height": 35
        },
        "id": "6OazlkTIkqs9",
        "outputId": "8a6ccbaa-7fb7-4f6f-b3dc-cb0691f61ba7"
      },
      "outputs": [
        {
          "data": {
            "application/vnd.google.colaboratory.intrinsic+json": {
              "type": "string"
            },
            "text/plain": [
              "'1,2,3,4,5,6'"
            ]
          },
          "execution_count": 87,
          "metadata": {},
          "output_type": "execute_result"
        }
      ],
      "source": [
        "descifrar(7,j)"
      ]
    },
    {
      "cell_type": "code",
      "execution_count": null,
      "metadata": {
        "colab": {
          "base_uri": "https://localhost:8080/",
          "height": 52
        },
        "id": "hLhkLUVXZa4Y",
        "outputId": "74540a87-ea05-4591-b71c-935f4637b4ea"
      },
      "outputs": [
        {
          "name": "stdout",
          "output_type": "stream",
          "text": [
            "118-105-108-113-109-40-109-123-40-109-124-109-122-118-119-40-109-118-40-109-116-40-117-125-118-108-119-\n"
          ]
        },
        {
          "data": {
            "application/vnd.google.colaboratory.intrinsic+json": {
              "type": "string"
            },
            "text/plain": [
              "'la clAve es 12345'"
            ]
          },
          "execution_count": 74,
          "metadata": {},
          "output_type": "execute_result"
        }
      ],
      "source": [
        "men = \"nadie es eterno en el mundo\"\n",
        "e = cifrar(3,men)\n",
        "print(e)\n",
        "descifrar(3,e)"
      ]
    },
    {
      "cell_type": "code",
      "execution_count": null,
      "metadata": {
        "colab": {
          "base_uri": "https://localhost:8080/"
        },
        "id": "X_5EnvxkJTyL",
        "outputId": "788a3947-f214-4d7e-c31e-a411a0dae9b4"
      },
      "outputs": [
        {
          "output_type": "stream",
          "name": "stdout",
          "text": [
            "H\n",
            "E\n",
            "L\n",
            "L\n",
            "O\n",
            " \n",
            "W\n",
            "O\n",
            "R\n",
            "L\n",
            "D\n",
            "HELLO WORLD\n"
          ]
        }
      ],
      "source": [
        "x = \"hello world\"\n",
        "x2 = \"\"\n",
        "for i in x:\n",
        "  print(i.upper())\n",
        "  x2 = x2 + i.upper()\n",
        "print(x2)"
      ]
    },
    {
      "cell_type": "code",
      "execution_count": null,
      "metadata": {
        "colab": {
          "base_uri": "https://localhost:8080/"
        },
        "id": "SxFuPTdyeCMR",
        "outputId": "82510f95-6a56-46ce-bfdb-357bb0ce1a75"
      },
      "outputs": [
        {
          "output_type": "stream",
          "name": "stdout",
          "text": [
            "73-102-109-109-112-33-88-112-115-109-101\n",
            "\n"
          ]
        }
      ],
      "source": [
        "aux = ''\n",
        "final = ''\n",
        "phrase = \"Hello World\"\n",
        "v = 1\n",
        "cont = \"\"\n",
        "for i in phrase:\n",
        "  cont = cont + str(ord(i)+v) + \"-\"\n",
        "cont = cont[:-1]\n",
        "print(cont)\n",
        "for elemento in phrase:\n",
        "  if elemento =='-':\n",
        "    final = final + chr(int(aux))\n",
        "    aux = ''\n",
        "  else:\n",
        "    aux = aux + elemento\n",
        "print(final)\n"
      ]
    },
    {
      "cell_type": "code",
      "execution_count": null,
      "metadata": {
        "colab": {
          "base_uri": "https://localhost:8080/"
        },
        "id": "O5DrsW7T9Dgb",
        "outputId": "1f23212c-91f9-4f51-8a99-b352c06e8e1c"
      },
      "outputs": [
        {
          "data": {
            "text/plain": [
              "[['E', '1', '1999-02-28', 'b,g,f', 'jjj:3,bbb:0,ddd:9,ggg:8,hhh:2'],\n",
              " ['A', '2', '1999-10-28', 'a,f,c', 'ccc:2,ddd:0,aaa:3,hhh:9'],\n",
              " ['B', '5', '1998-05-02', 'f,e,a,c', 'ddd:2,ggg:5,ccc:6,jjj:1'],\n",
              " ['A', '3', '1999-08-28', 'a,b', 'hhh:9,iii:5,eee:7,bbb:1'],\n",
              " ['C', '6', '1999-12-01', 'f,g,d,a', 'iii:6,ddd:5,eee:4,jjj:3'],\n",
              " ['A', '7', '1998-07-28', 'c,d', 'bbb:2,hhh:0,ccc:4,fff:1,aaa:7'],\n",
              " ['A', '9', '1997-02-28', 'g,d,a', 'aaa:5,fff:8,ddd:2,iii:0,jjj:7,ccc:1'],\n",
              " ['B', '1', '1999-05-10', 'b,a', 'fff:3,hhh:1,ddd:2'],\n",
              " ['E', '2', '1997-04-12', 'd,e,a,f', 'eee:4,ccc:5,iii:9,fff:7,ggg:6,bbb:0'],\n",
              " ['B', '3', '1999-11-23', 'd,b,g,f', 'bbb:7,jjj:9,fff:5,iii:4,ggg:2,eee:3'],\n",
              " ['C', '7', '1998-01-17', 'd,c,f,b', 'hhh:6,eee:4,iii:0,fff:2,jjj:1'],\n",
              " ['C', '5', '1998-12-28', 'd,e,a,c', 'bbb:7,iii:6,ggg:9'],\n",
              " ['D', '3', '1999-10-15', 'g,e,f,b', 'bbb:9,aaa:3,ccc:6,fff:4,eee:2'],\n",
              " ['E', '8', '1998-11-01', 'c,f', 'aaa:8,ddd:5,jjj:1'],\n",
              " ['B', '9', '1999-08-12', 'd,b', 'ccc:0,jjj:6,fff:7,ddd:3,aaa:2'],\n",
              " ['D', '1', '1997-12-01', 'f,e', 'ccc:0,eee:6,bbb:9,ddd:3'],\n",
              " ['E', '3', '1997-07-28', 'e,b,f', 'bbb:6,iii:3,hhh:5,fff:4,ggg:9,ddd:2'],\n",
              " ['D', '5', '1998-08-12', 'g,a', 'hhh:4,jjj:5,ccc:9'],\n",
              " ['E', '8', '1999-08-24', 'e,c,f,a', 'ccc:1,iii:6,fff:9'],\n",
              " ['E', '9', '1998-01-23', 'e,a', 'bbb:9,aaa:3,fff:1'],\n",
              " ['E', '7', '1999-06-22', 'e,f', 'ddd:9,iii:2,aaa:4'],\n",
              " ['E', '3', '1999-04-24', 'c,b,g', 'ccc:5,fff:8,iii:7'],\n",
              " ['D', '5', '1999-06-25', 'c,f,a', 'eee:3,jjj:2,ddd:7'],\n",
              " ['A', '1', '1999-08-25', 'f,a,d', 'jjj:1,ggg:0,ccc:7,ddd:9,bbb:3'],\n",
              " ['E', '4', '1997-07-26', 'c,d', 'jjj:6,ccc:0,aaa:1,hhh:9,iii:7,ggg:8'],\n",
              " ['E', '6', '1997-09-24', 'e,d,c', 'fff:3,eee:6,iii:4,bbb:7,ddd:0,ccc:1'],\n",
              " ['A', '8', '1997-09-28', 'a,e,f', 'fff:0,ddd:5,ccc:4'],\n",
              " ['E', '5', '1999-06-22', 'c,a,g', 'ggg:6,hhh:3,ddd:9,ccc:0,jjj:7'],\n",
              " ['A', '6', '1999-07-29', 'f,e', 'hhh:6,jjj:0,eee:5,iii:7,ccc:3'],\n",
              " ['C', '0', '1999-08-22', 'f,c,a,g', 'eee:1,fff:4,aaa:2,ccc:7,ggg:0,ddd:6'],\n",
              " ['A', '1', '1998-04-26', 'b,f', 'ccc:6,aaa:9,eee:5,ddd:0,bbb:3'],\n",
              " ['D', '2', '1998-02-24', 'b,f', 'bbb:7,hhh:1,aaa:6,iii:4,fff:9,ddd:5'],\n",
              " ['E', '5', '1999-03-24', 'a,c', 'fff:3,ccc:1,ggg:2,eee:5'],\n",
              " ['B', '4', '1998-03-23', 'b,f,c', 'iii:7,ggg:3,ddd:0,jjj:8,hhh:5,ccc:1'],\n",
              " ['B', '6', '1999-04-21', 'f,a,e', 'hhh:6,ccc:3,jjj:0,bbb:8,ddd:7'],\n",
              " ['D', '7', '1999-02-29', 'a,f', 'aaa:0,fff:5,ddd:3'],\n",
              " ['B', '8', '1997-05-21', 'c,a', 'ddd:5,jjj:2,iii:7,ccc:0,bbb:4'],\n",
              " ['C', '9', '1997-07-22', 'c,a,e,f', 'eee:0,fff:2,hhh:6'],\n",
              " ['E', '1', '1999-09-28', 'e,d', 'fff:9,iii:2,eee:0'],\n",
              " ['E', '5', '1998-01-26', 'f,a,d', 'hhh:8,ggg:3,jjj:5']]"
            ]
          },
          "execution_count": 6,
          "metadata": {},
          "output_type": "execute_result"
        }
      ],
      "source": [
        "# Leer un archivo csv con numpy\n",
        "import numpy as np\n",
        "import csv\n",
        "df = open('data.csv')\n",
        "reader = csv.reader(df, delimiter ='\\t')\n",
        "dfl=[]\n",
        "columna = []\n",
        "columna2 = ''\n",
        "i = 4\n",
        "for r in reader:\n",
        "    dfl.append(r)\n",
        "dfl"
      ]
    },
    {
      "cell_type": "code",
      "execution_count": null,
      "metadata": {
        "colab": {
          "base_uri": "https://localhost:8080/",
          "height": 219
        },
        "id": "jc-VbKv7SDh8",
        "outputId": "ef7c3f62-15c9-4497-b0a1-02d5c2ccb5e2"
      },
      "outputs": [
        {
          "ename": "IndexError",
          "evalue": "ignored",
          "output_type": "error",
          "traceback": [
            "\u001b[0;31m---------------------------------------------------------------------------\u001b[0m",
            "\u001b[0;31mIndexError\u001b[0m                                Traceback (most recent call last)",
            "\u001b[0;32m<ipython-input-36-902659505f4f>\u001b[0m in \u001b[0;36m<module>\u001b[0;34m()\u001b[0m\n\u001b[1;32m      3\u001b[0m \u001b[0;34m\u001b[0m\u001b[0m\n\u001b[1;32m      4\u001b[0m \u001b[0mi\u001b[0m \u001b[0;34m=\u001b[0m \u001b[0;36m38\u001b[0m \u001b[0;31m#quinta columna\u001b[0m\u001b[0;34m\u001b[0m\u001b[0;34m\u001b[0m\u001b[0m\n\u001b[0;32m----> 5\u001b[0;31m \u001b[0mcolumna\u001b[0m \u001b[0;34m=\u001b[0m \u001b[0mdfl_np\u001b[0m\u001b[0;34m[\u001b[0m\u001b[0;36m0\u001b[0m\u001b[0;34m,\u001b[0m\u001b[0mi\u001b[0m\u001b[0;34m]\u001b[0m\u001b[0;34m\u001b[0m\u001b[0;34m\u001b[0m\u001b[0m\n\u001b[0m\u001b[1;32m      6\u001b[0m \u001b[0mprint\u001b[0m\u001b[0;34m(\u001b[0m\u001b[0mcolumna\u001b[0m\u001b[0;34m[\u001b[0m\u001b[0;36m0\u001b[0m\u001b[0;34m]\u001b[0m\u001b[0;34m.\u001b[0m\u001b[0msplit\u001b[0m\u001b[0;34m(\u001b[0m\u001b[0;34m\",\"\u001b[0m\u001b[0;34m)\u001b[0m\u001b[0;34m)\u001b[0m\u001b[0;34m\u001b[0m\u001b[0;34m\u001b[0m\u001b[0m\n",
            "\u001b[0;31mIndexError\u001b[0m: index 38 is out of bounds for axis 1 with size 5"
          ]
        }
      ],
      "source": [
        "#np.array()--> creo un arreglo que contiene los elementos de una lista\n",
        "dfl_np = np.array(dfl)\n",
        "i = 38 #quinta columna\n",
        "columna = dfl_np[:,i]\n",
        "print(columna[0].split(\",\"))"
      ]
    },
    {
      "cell_type": "code",
      "execution_count": null,
      "metadata": {
        "colab": {
          "base_uri": "https://localhost:8080/"
        },
        "id": "zVnFGHY-7WWo",
        "outputId": "d13a31c4-271b-41e9-8f22-957a55895399"
      },
      "outputs": [
        {
          "output_type": "stream",
          "name": "stdout",
          "text": [
            "P.Cambia 0.625\n",
            "P. No Cambia 0.375\n"
          ]
        }
      ],
      "source": [
        "# - elementos que estan en A pero no estan en B\n",
        "# A = {a,b,c}\n",
        "# B = {a,b,d}\n",
        "# A - B = c\n",
        "# ^ elementos que no estan compartidos en ambos conjuntos \n",
        "# A = {a,b,c}\n",
        "# B = {a,b,d}\n",
        "# A ^ B = c, d\n",
        "\n",
        "# Monty Game\n",
        "\n",
        "import random\n",
        "puertas = ['A', 'B', 'C']\n",
        "n = 8\n",
        "ganoCam = 0\n",
        "ganoSinCam = 0\n",
        "for i in range(1,n+1):\n",
        "  premio = random.choice(puertas)\n",
        "  selecc = random.choice(puertas)\n",
        "  #Supongo que siempre voy a cambiar por la puerta restante que la que me muestra monty\n",
        "  #la seleccion es la misma del premio osea que gano sin cambiar\n",
        "  if selecc == premio:\n",
        "    ganoSinCam += 1\n",
        "  #la seleccion NO es la misma del premio pero la cambio por la opción restante osea que gano\n",
        "  else:\n",
        "    ganoCam += 1\n",
        "\n",
        "print(\"P.Cambia\", ganoCam/n)\n",
        "print(\"P. No Cambia\", ganoSinCam/n)\n",
        "\n",
        "################################################################################\n",
        "\n",
        "import random\n",
        "puertas = ['A', 'B', 'C']\n",
        "n = 800\n",
        "contC = 0\n",
        "contNC = 0\n",
        "for i in range(1,n+1):\n",
        "  premio = random.choice(puertas)\n",
        "  selecc = random.choice(puertas)\n",
        "  if selecc == premio:\n",
        "    contNC += 1\n",
        "  else:\n",
        "    contC += 1\n",
        "\n",
        "print(\"P.sacar la puerta ganadora\", contC/n)\n",
        "print(\"P. de no sacar la puerta ganadora\", contNC/n)\n",
        "\n",
        "################################################################################\n",
        "\n",
        "import random\n",
        "\n",
        "puertas = ['A', 'B', 'C']\n",
        "puertas = set(puertas)\n",
        "premio = random.choice(puertas)\n",
        "jugador = random.choice(puertas)\n",
        "lis2 = []\n",
        "if premio == jugador:\n",
        "  puertas.difference(premio)\n",
        "puertas\n",
        "\n",
        "################################################################################\n",
        "\n",
        "import random\n",
        "def montyGame(n):\n",
        "  lista = [0,1,2]\n",
        "  cstick =0\n",
        "  cswitch=0\n",
        "  for iteration in range(n):\n",
        "    i = random.choice(lista)\n",
        "    premio = random.choice(lista)\n",
        "    # stick\n",
        "    if premio==i:\n",
        "      cstick= cstick+1\n",
        "    else:\n",
        "      cswitch = cswitch+1\n",
        "\n",
        "  return (cstick / n, cswitch /n )\n",
        "\n",
        "montyGame(150000)\n",
        "\n",
        "################################################################################\n",
        "\n",
        "import matplotlib.pyplot as plt\n",
        "import numpy as np\n",
        "games=800\n",
        "s1_total = []\n",
        "s2_total = []\n",
        "\n",
        "def monty_game():\n",
        "  doors=[1,2,3]\n",
        "  winner = random.randint(1,3)\n",
        "  select_one = random.randint(1,3)\n",
        "  values = [winner,select_one]\n",
        "  switch = list( set(doors) - set(values))\n",
        "  select_two = random.randint(switch[0], switch[-1])\n",
        "  s1,s2 = 0,0\n",
        "  if winner == select_one:\n",
        "    s1 += 1\n",
        "  else:\n",
        "    s2 +=1\n",
        "  return [s1,s2]\n",
        "\n",
        "for trials in range(1,games):\n",
        "  values_s1 = sum([monty_game()[0] for _ in range(trials)]) / trials\n",
        "  s1_total.append(values_s1)\n",
        "  values_s2 = sum(monty_game()[1] for _ in range(trials)) / trials \n",
        "  s2_total.append(values_s2)\n",
        "plt.plot(np.arange(1,games),s1_total , color='yellow', label='stick')\n",
        "plt.plot(np.arange(1,games),s2_total, label='switch')\n",
        "plt.xlabel('Number of trials or games')\n",
        "plt.ylabel('Probability of win')\n",
        "plt.title('$P(switching)$ = {:.4},  $P(sticking)$ = {:.4} '.format(s2_total[-1], s1_total[-1]))\n",
        "plt.legend()\n"
      ]
    }
  ],
  "metadata": {
    "colab": {
      "provenance": [],
      "authorship_tag": "ABX9TyNEEeNI9EH3uEPuTaAJhdGS",
      "include_colab_link": true
    },
    "kernelspec": {
      "display_name": "Python 3",
      "name": "python3"
    },
    "language_info": {
      "name": "python"
    }
  },
  "nbformat": 4,
  "nbformat_minor": 0
}