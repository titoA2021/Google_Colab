{
  "nbformat": 4,
  "nbformat_minor": 0,
  "metadata": {
    "colab": {
      "provenance": [],
      "authorship_tag": "ABX9TyMuSwxeuX0GlRcmlGchYPzt",
      "include_colab_link": true
    },
    "kernelspec": {
      "name": "python3",
      "display_name": "Python 3"
    },
    "language_info": {
      "name": "python"
    }
  },
  "cells": [
    {
      "cell_type": "markdown",
      "metadata": {
        "id": "view-in-github",
        "colab_type": "text"
      },
      "source": [
        "<a href=\"https://colab.research.google.com/github/titoA2021/Google_Colab/blob/main/Taller_1_Javeriana_DS.ipynb\" target=\"_parent\"><img src=\"https://colab.research.google.com/assets/colab-badge.svg\" alt=\"Open In Colab\"/></a>"
      ]
    },
    {
      "cell_type": "code",
      "execution_count": null,
      "metadata": {
        "colab": {
          "base_uri": "https://localhost:8080/"
        },
        "id": "deJkpVpwou0p",
        "outputId": "e9a0f20d-58ca-46f8-9e7d-7843b70fd129"
      },
      "outputs": [
        {
          "output_type": "execute_result",
          "data": {
            "text/plain": [
              "10"
            ]
          },
          "metadata": {},
          "execution_count": 1
        }
      ],
      "source": [
        "#sumar una lista\n",
        "def sumLista(lista):\n",
        "  sum = 0\n",
        "  for i in lista:\n",
        "    sum = sum + i\n",
        "  return sum\n",
        "\n",
        "u = [1,2,3,4]\n",
        "\n",
        "sumLista(u)\n",
        "\n",
        "def sum(*args):\n",
        "    value = 0\n",
        "    for n in args:\n",
        "        value += n\n",
        "    return value\n",
        "\n",
        "x = int(input(\"Cuantos #s desea sumar:\"))\n",
        "t = []\n",
        "for i in range(1, x+1):\n",
        "  y = int(input(\"ingrese el numero \" + str(i) + \": \"))\n",
        "  t.append(y)\n",
        "sumLista(t)\n"
      ]
    },
    {
      "cell_type": "markdown",
      "source": [
        "$$ P(X=x)= \\begin{pmatrix} n \\\\ x \\end{pmatrix} p^x q^{n-x}, \\hspace{0.2cm} con \\hspace{0.2cm} n\\geq x\\hspace{0.2cm}, Funcion \\hspace{0.2cm} de \\hspace{0.2cm} distribucion \\hspace{0.2cm} binomial  $$\n",
        "\n",
        "$$ p+q=1 \\\\ q = 1-p  $$\n",
        "\n",
        "$$ P(X=x)= \\begin{pmatrix} n \\\\ x \\end{pmatrix} p^x (1-p)^{n-x}$$\n",
        "$$Cuantos \\hspace{0.2cm}exitos \\hspace{0.2cm}obtengo \\hspace{0.2cm}en \\hspace{0.2cm}k \\hspace{0.2cm}intentos $$\n",
        "\n",
        "$$ \\begin{pmatrix} n \\\\ x \\end{pmatrix} = \\frac{n!}{x!(n-x)!} \\hspace{0.2cm}, Combinatoria \\hspace{0.2cm} sin \\hspace{0.2cm}repetición $$\n",
        "\n"
      ],
      "metadata": {
        "id": "GKe5z8AADXU6"
      }
    },
    {
      "cell_type": "markdown",
      "source": [
        "$$ El \\hspace{0.2cm}proceso \\hspace{0.2cm}tiene \\hspace{0.2cm}un \\hspace{0.2cm}número \\hspace{0.2cm}indefinido \\hspace{0.2cm}de \\hspace{0.2cm}pruebas \\hspace{0.2cm}y \\hspace{0.2cm}este \\hspace{0.2cm}concluirá \\hspace{0.2cm}cuando \\hspace{0.2cm}se \\hspace{0.2cm}tenga \\hspace{0.2cm}un \\hspace{0.2cm}número determinado \\hspace{0.2cm}de \\hspace{0.2cm}resultados \\hspace{0.2cm}favorables \\hspace{0.2cm}r   $$\n",
        "\n",
        "$$ P(X=x)= \\begin{pmatrix} n \\\\ x \\end{pmatrix} p^x q^{n-x}, \\hspace{0.2cm} con \\hspace{0.2cm} n\\geq x\\hspace{0.2cm}, Funcion \\hspace{0.2cm} de \\hspace{0.2cm} distribucion \\hspace{0.2cm} binomial \\hspace{0.2cm} negativa $$\n",
        "\n",
        "$$ p+q=1 \\\\ q = 1-p  $$\n",
        "\n",
        "$$ P(X=x)= \\begin{pmatrix} n \\\\ x \\end{pmatrix} p^x (1-p)^{n-x}$$\n",
        "$$Cuantos \\hspace{0.2cm}exitos \\hspace{0.2cm}obtengo \\hspace{0.2cm}en \\hspace{0.2cm}k \\hspace{0.2cm}intentos $$\n",
        "\n",
        "$$ \\begin{pmatrix} n \\\\ x \\end{pmatrix} = \\frac{n!}{x!(n-x)!} \\hspace{0.2cm}, Combinatoria \\hspace{0.2cm} sin \\hspace{0.2cm}repetición $$"
      ],
      "metadata": {
        "id": "-4S_Khipnt3F"
      }
    },
    {
      "cell_type": "code",
      "source": [
        "#Punto 2\n",
        "# n: número de intentos n: 0,1,2,3,4,...\n",
        "# x: número de exitos x: 1,2,3,4,5,...\n",
        "# p: Probabilidad de exitos 0 <= p <= 1\n",
        "\n",
        "def factorial(num):\n",
        "  aux = 1\n",
        "  for i in range(num):\n",
        "    aux = aux*(num-i)\n",
        "  return aux\n",
        "\n",
        "def Permutacion(n,k):\n",
        "  return factorial(n) / factorial(n-k)\n",
        "\n",
        "def Combinacion(n,k):\n",
        "  return factorial(n) / (factorial(k)*factorial(n-k))\n",
        "\n",
        "def binomial(n,x,p):\n",
        "  return (Combinacion(n,x) * p**x * (1-p)**(n-x)) * 100\n"
      ],
      "metadata": {
        "id": "TQl18D1-IJ_U"
      },
      "execution_count": null,
      "outputs": []
    },
    {
      "cell_type": "code",
      "source": [
        "Combinacion(360,1)"
      ],
      "metadata": {
        "colab": {
          "base_uri": "https://localhost:8080/"
        },
        "id": "xR1ef2l8XHv5",
        "outputId": "692468c7-378a-47d3-e848-90baa8b695be"
      },
      "execution_count": null,
      "outputs": [
        {
          "output_type": "execute_result",
          "data": {
            "text/plain": [
              "360.0"
            ]
          },
          "metadata": {},
          "execution_count": 11
        }
      ]
    },
    {
      "cell_type": "code",
      "source": [
        "import matplotlib.pyplot as plt\n",
        "\n",
        "data = []\n",
        "n, k, p = 50 , 3, 0.5\n",
        "E = 0\n",
        "Desv = 0\n",
        "for k in range(1,n):\n",
        "  data.append(binomial(n,k,p))\n",
        "plt.title(\"Distribución binomial\")\n",
        "plt.xlabel(\"exitos (p)\")\n",
        "plt.ylabel(\"P(X=x)\")\n",
        "E = n*p\n",
        "Desv = (n*p*(1-p))**(1/2)\n",
        "print(\"La Media es: \" + str(E))\n",
        "print(\"La desviación estandar es: \" + str(Desv))\n",
        "plt.plot(list(range(1,n)), data, color= \"green\")\n"
      ],
      "metadata": {
        "colab": {
          "base_uri": "https://localhost:8080/",
          "height": 347
        },
        "id": "3tU53z3gK6AC",
        "outputId": "48130903-3c69-4a6e-e1d0-e8dd901c1290"
      },
      "execution_count": null,
      "outputs": [
        {
          "output_type": "stream",
          "name": "stdout",
          "text": [
            "La Media es: 25.0\n",
            "La desviación estandar es: 3.5355339059327378\n"
          ]
        },
        {
          "output_type": "execute_result",
          "data": {
            "text/plain": [
              "[<matplotlib.lines.Line2D at 0x7f543a2d2210>]"
            ]
          },
          "metadata": {},
          "execution_count": 7
        },
        {
          "output_type": "display_data",
          "data": {
            "text/plain": [
              "<Figure size 432x288 with 1 Axes>"
            ],
            "image/png": "[encoded data removed]"
          },
          "metadata": {
            "needs_background": "light"
          }
        }
      ]
    },
    {
      "cell_type": "code",
      "source": [
        "# Algoritmo Bubble Sort\n",
        "# Comenzar hacer comparaciones de elementos\n",
        "\n",
        "# Ordenar elementos de manera descendente\n",
        "array = [6,7,8,9,2,3,4,5,1]\n",
        "\n",
        "def bubbleSort(array):\n",
        "  n = len(array) # Longitud de nuestros elementos\n",
        "  for i in range(n): # Lo necesitamos para recorrer todos los elementos del nuestro array\n",
        "    for j in range(0, n - i - 1): # Necesario para comparar los elementos\n",
        "      if array[j] > array[j + 1]: # Toma la posicion j y lo compara con el siguiente numero\n",
        "        array[j], array[j + 1] = array[j + 1], array[j] # Corregimos la posicion\n",
        "  print(\"Elementos ordenados de manera ascendente: \")\n",
        "  return array\n",
        "bubbleSort(array)"
      ],
      "metadata": {
        "colab": {
          "base_uri": "https://localhost:8080/"
        },
        "id": "KoatWOU3EsXd",
        "outputId": "230303ec-c548-48dd-b1f9-823184392d6d"
      },
      "execution_count": null,
      "outputs": [
        {
          "output_type": "stream",
          "name": "stdout",
          "text": [
            "Elementos ordenados de manera ascendente: \n"
          ]
        },
        {
          "output_type": "execute_result",
          "data": {
            "text/plain": [
              "[1, 2, 3, 4, 5, 6, 7, 8, 9]"
            ]
          },
          "metadata": {},
          "execution_count": 8
        }
      ]
    },
    {
      "cell_type": "code",
      "source": [
        "#Punto 3\n",
        "def combinations(iterable, r):\n",
        "    # combinations('ABCD', 2) --> AB AC AD BC BD CD\n",
        "    # combinations(range(4), 3) --> 012 013 023 123\n",
        "    pool = tuple(iterable)\n",
        "    n = len(pool)\n",
        "    if r > n:\n",
        "        return\n",
        "    indices = list(range(r))\n",
        "    yield tuple(pool[i] for i in indices)\n",
        "    while True:\n",
        "        for i in reversed(range(r)):\n",
        "            if indices[i] != i + n - r:\n",
        "                break\n",
        "        else:\n",
        "            return\n",
        "        indices[i] += 1\n",
        "        for j in range(i+1, r):\n",
        "            indices[j] = indices[j-1] + 1\n",
        "        yield tuple(pool[i] for i in indices)\n"
      ],
      "metadata": {
        "id": "ESgcC2gFSkG6"
      },
      "execution_count": null,
      "outputs": []
    },
    {
      "cell_type": "code",
      "source": [
        "from scipy.stats import binom\n",
        "import matplotlib.pyplot as plt\n",
        "k, n, p = 1, 20, 0.5\n",
        "binom.pmf(k, n, p, loc=0)\n",
        "data = [binom.pmf(k,n,p) for k in range(1,n)]\n",
        "plt.plot(list(range(1,n)), data)"
      ],
      "metadata": {
        "colab": {
          "base_uri": "https://localhost:8080/",
          "height": 282
        },
        "id": "HUGghA1LwxED",
        "outputId": "15aa060b-2e04-4002-9442-116f4cc16ffd"
      },
      "execution_count": null,
      "outputs": [
        {
          "output_type": "execute_result",
          "data": {
            "text/plain": [
              "[<matplotlib.lines.Line2D at 0x7f3808570f50>]"
            ]
          },
          "metadata": {},
          "execution_count": 15
        },
        {
          "output_type": "display_data",
          "data": {
            "text/plain": [
              "<Figure size 432x288 with 1 Axes>"
            ],
            "image/png": "[encoded data removed]"
          },
          "metadata": {
            "needs_background": "light"
          }
        }
      ]
    },
    {
      "cell_type": "code",
      "source": [
        "import numpy as np\n",
        "import matplotlib.pyplot as plt\n",
        "n,k,p = 20,3,0.5\n",
        "y = []\n",
        "binomial(n,k,p)\n",
        "for k in range(1,n):\n",
        "  y.append(binomial(n,k,p))\n",
        "plt.plot(list(range(1,n)),y)"
      ],
      "metadata": {
        "colab": {
          "base_uri": "https://localhost:8080/",
          "height": 282
        },
        "id": "N71AJ4oWzfey",
        "outputId": "0152a492-c40c-46d2-94a7-bdef3c9009a8"
      },
      "execution_count": null,
      "outputs": [
        {
          "output_type": "execute_result",
          "data": {
            "text/plain": [
              "[<matplotlib.lines.Line2D at 0x7f38082da090>]"
            ]
          },
          "metadata": {},
          "execution_count": 28
        },
        {
          "output_type": "display_data",
          "data": {
            "text/plain": [
              "<Figure size 432x288 with 1 Axes>"
            ],
            "image/png": "[encoded data removed]"
          },
          "metadata": {
            "needs_background": "light"
          }
        }
      ]
    },
    {
      "cell_type": "code",
      "source": [
        "def prob(n, k):\n",
        "  return Permutacion(n,k)/(n**k)"
      ],
      "metadata": {
        "id": "GExPo9VtukxH"
      },
      "execution_count": null,
      "outputs": []
    },
    {
      "cell_type": "code",
      "source": [
        "1 - prob(360,60)"
      ],
      "metadata": {
        "colab": {
          "base_uri": "https://localhost:8080/"
        },
        "id": "UHKOZHaFvZEi",
        "outputId": "11a7184a-6a39-47ed-c0a3-6861ad0830cd"
      },
      "execution_count": null,
      "outputs": [
        {
          "output_type": "execute_result",
          "data": {
            "text/plain": [
              "0.9945515192992189"
            ]
          },
          "metadata": {},
          "execution_count": 43
        }
      ]
    },
    {
      "cell_type": "code",
      "source": [
        " k = 10\n",
        "lista = [1,2,3,4,5,6,7,8,9,10]\n",
        "bottom = 0\n",
        "upper = len(lista) - 1\n",
        "flag = False\n",
        "while bottom <= upper and flag == False:\n",
        "  half = int((bottom + upper)/2)\n",
        "  print(\"bottom \", bottom, \" + upper \", upper, \" : half\", half)\n",
        "  if k == lista[half]:\n",
        "    flag = True\n",
        "    print(\"Exito\")\n",
        "  elif k < lista[half]:\n",
        "    upper = half - 1\n",
        "  elif k > lista[half]:\n",
        "    bottom = half + 1\n",
        "  print(\"lista[half]: \", lista[half])\n",
        "print(flag)\n",
        "  \n",
        "\n",
        "  "
      ],
      "metadata": {
        "colab": {
          "base_uri": "https://localhost:8080/"
        },
        "id": "kQyslWNgB64d",
        "outputId": "d6fe9984-9fab-428b-be7e-abd54bd9b6ee"
      },
      "execution_count": null,
      "outputs": [
        {
          "output_type": "stream",
          "name": "stdout",
          "text": [
            "bottom  0  + upper  9  : half 4\n",
            "lista[half]:  5\n",
            "bottom  5  + upper  9  : half 7\n",
            "lista[half]:  8\n",
            "bottom  8  + upper  9  : half 8\n",
            "lista[half]:  9\n",
            "bottom  9  + upper  9  : half 9\n",
            "Exito\n",
            "lista[half]:  10\n",
            "True\n"
          ]
        }
      ]
    },
    {
      "cell_type": "code",
      "source": [
        "n = 14\n",
        "lista = [1,2,3,4,5,6,7,8,9,10]\n",
        "while len(lista) > 1:\n",
        "  half = int(len(lista)/2)\n",
        "  aux = lista[half]\n",
        "  if aux > n:\n",
        "    lista = lista[:half]\n",
        "  else:\n",
        "    lista = lista[half:]\n",
        "  if len(lista) == 1 and n != lista[0]:\n",
        "    print(\"el valor no existe\") \n",
        "  print(lista)"
      ],
      "metadata": {
        "id": "-D8hxYAuGw60"
      },
      "execution_count": null,
      "outputs": []
    },
    {
      "cell_type": "code",
      "source": [
        "def binario(k,lista):\n",
        "  contador = 0\n",
        "  bottom = 0\n",
        "  upper = len(lista) - 1\n",
        "  flag = False\n",
        "  while upper >= bottom:\n",
        "    contador += 1\n",
        "    half = int((bottom + upper)/2)\n",
        "    print(bottom, upper, half)\n",
        "    if k == lista[half]:\n",
        "      flag = True\n",
        "    elif k > lista[half]:\n",
        "      bottom = half + 1\n",
        "    elif k < lista[half]:\n",
        "      upper = half - 1\n",
        "    return flag, contador"
      ],
      "metadata": {
        "id": "C8f016jHMTms"
      },
      "execution_count": null,
      "outputs": []
    },
    {
      "cell_type": "code",
      "source": [
        "lista1 = [1,2,3,4,5,6,7,8,9,10,11,12]\n",
        "n = 5\n",
        "binario(n,lista1)"
      ],
      "metadata": {
        "colab": {
          "base_uri": "https://localhost:8080/"
        },
        "id": "8jZU3EhlNTTS",
        "outputId": "aaea95c1-7342-4bcb-ddaf-121cbf439ea0"
      },
      "execution_count": null,
      "outputs": [
        {
          "output_type": "stream",
          "name": "stdout",
          "text": [
            "0 11 5\n"
          ]
        },
        {
          "output_type": "execute_result",
          "data": {
            "text/plain": [
              "(False, 1)"
            ]
          },
          "metadata": {},
          "execution_count": 17
        }
      ]
    },
    {
      "cell_type": "code",
      "source": [
        "k = [1,2,3,4]\n",
        "k[len(k)-1]"
      ],
      "metadata": {
        "colab": {
          "base_uri": "https://localhost:8080/"
        },
        "id": "QWLtHfX7QrUp",
        "outputId": "093a58c1-0b1c-4b0a-f076-c870c31476ac"
      },
      "execution_count": null,
      "outputs": [
        {
          "output_type": "execute_result",
          "data": {
            "text/plain": [
              "4"
            ]
          },
          "metadata": {},
          "execution_count": 34
        }
      ]
    }
  ]
}